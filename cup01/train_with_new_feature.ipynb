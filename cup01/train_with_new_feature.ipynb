{
 "cells": [
  {
   "cell_type": "code",
   "execution_count": 1,
   "id": "449487cf",
   "metadata": {},
   "outputs": [],
   "source": [
    "%matplotlib inline\n",
    "import numpy as np\n",
    "import pandas as pd\n",
    "from sklearn.feature_extraction.text import CountVectorizer, TfidfTransformer, TfidfVectorizer\n",
    "from sklearn import preprocessing\n",
    "from sklearn.model_selection import train_test_split\n",
    "from sklearn import linear_model\n",
    "from sklearn.naive_bayes import MultinomialNB\n",
    "from sklearn.svm import SVC\n",
    "from sklearn.neural_network import MLPClassifier\n",
    "from sklearn.linear_model import SGDClassifier\n",
    "from sklearn.ensemble import RandomForestClassifier, VotingClassifier\n",
    "from sklearn.metrics import precision_score, accuracy_score, recall_score, roc_auc_score\n",
    "from sklearn.decomposition import TruncatedSVD, PCA\n",
    "from nltk.tokenize import RegexpTokenizer\n",
    "import scipy\n"
   ]
  },
  {
   "cell_type": "code",
   "execution_count": 2,
   "id": "bdf59f7b",
   "metadata": {},
   "outputs": [
    {
     "name": "stdout",
     "output_type": "stream",
     "text": [
      "27643\n",
      "11847\n"
     ]
    }
   ],
   "source": [
    "df_train = pd.read_csv('./train_feature.csv')\n",
    "df_test = pd.read_csv('./test_feature.csv')\n",
    "\n",
    "print(len(df_train))\n",
    "print(len(df_test))"
   ]
  },
  {
   "cell_type": "code",
   "execution_count": 3,
   "id": "6760a8d5",
   "metadata": {},
   "outputs": [
    {
     "name": "stderr",
     "output_type": "stream",
     "text": [
      "[nltk_data] Downloading package stopwords to\n",
      "[nltk_data]     /home/nlplab/harry/nltk_data...\n",
      "[nltk_data]   Package stopwords is already up-to-date!\n"
     ]
    }
   ],
   "source": [
    "import re\n",
    "from bs4 import BeautifulSoup\n",
    "import string\n",
    "import nltk\n",
    "from nltk.corpus import stopwords\n",
    "from nltk.stem.porter import PorterStemmer\n",
    "from nltk.stem import WordNetLemmatizer\n",
    "from nltk import word_tokenize, pos_tag\n",
    "\n",
    "nltk.download('stopwords')\n",
    "stop = stopwords.words('english')\n",
    "\n",
    "porter = PorterStemmer()\n",
    "wnl = WordNetLemmatizer()\n",
    "tokenizer = RegexpTokenizer(r'\\w+')\n",
    "\n",
    "def prep(text):\n",
    "    \n",
    "    # Remove HTML tags.\n",
    "#     text = BeautifulSoup(text,'html.parser').get_text()\n",
    "    \n",
    "    text = re.sub(\"[^a-zA-Z]\", \"\", text)\n",
    "    text = text.lower()\n",
    "    text = text.translate(str.maketrans('', '', string.punctuation))\n",
    "    text = text.strip()\n",
    "    \n",
    "    \n",
    "    token  = nltk.word_tokenize(text)\n",
    "    \n",
    "    text = [porter.stem(w) for w in token if w not in stop]\n",
    "    \n",
    "    # Join the words back into one string separated by space, and return the result.\n",
    "    return \" \".join(text)"
   ]
  },
  {
   "cell_type": "code",
   "execution_count": 4,
   "id": "5cf100a4",
   "metadata": {
    "scrolled": true
   },
   "outputs": [
    {
     "data": {
      "text/plain": [
       "Index(['Id', 'Popularity', 'topic', 'channel', 'weekday', 'author',\n",
       "       'img count', 'title', 'content', 'media count', 'n_tokens_title',\n",
       "       'n_tokens_content', 'n_unique_tokens', 'n_non_stop_words',\n",
       "       'n_non_stop_unique_tokens'],\n",
       "      dtype='object')"
      ]
     },
     "execution_count": 4,
     "metadata": {},
     "output_type": "execute_result"
    }
   ],
   "source": [
    "df_train.columns"
   ]
  },
  {
   "cell_type": "code",
   "execution_count": 5,
   "id": "951ea298",
   "metadata": {},
   "outputs": [],
   "source": [
    "# Normalize the numerical features\n",
    "from sklearn.preprocessing import MinMaxScaler\n",
    "scaler = MinMaxScaler()\n",
    "numerical = ['img count', 'media count', 'n_tokens_content', 'n_tokens_title']\n",
    "df_train[numerical] = scaler.fit_transform(df_train[numerical])\n"
   ]
  },
  {
   "cell_type": "code",
   "execution_count": 6,
   "id": "9a33db6e",
   "metadata": {},
   "outputs": [],
   "source": [
    "# numerical = ['img count', 'media count']\n",
    "df_test[numerical] = scaler.transform(df_test[numerical])"
   ]
  },
  {
   "cell_type": "code",
   "execution_count": 7,
   "id": "677192fb",
   "metadata": {},
   "outputs": [
    {
     "data": {
      "text/plain": [
       "array([0.00892857, 0.01785714, 0.01785714, ..., 0.13392857, 0.02678571,\n",
       "       0.00892857])"
      ]
     },
     "execution_count": 7,
     "metadata": {},
     "output_type": "execute_result"
    }
   ],
   "source": [
    "df_train['img count'].values"
   ]
  },
  {
   "cell_type": "code",
   "execution_count": 8,
   "id": "2006f402",
   "metadata": {},
   "outputs": [],
   "source": [
    "all_topic = df_train['topic'].values.astype('U').tolist() + df_test['topic'].values.astype('U').tolist()\n",
    "all_channel = df_train['channel'].values.astype('U').tolist() + df_test['channel'].values.astype('U').tolist()\n",
    "all_titles = df_train['title'].values.astype('U').tolist() + df_test['title'].values.astype('U').tolist()\n"
   ]
  },
  {
   "cell_type": "code",
   "execution_count": 9,
   "id": "4f5157f4",
   "metadata": {},
   "outputs": [],
   "source": [
    "tfidf_vectorize = TfidfVectorizer(preprocessor=prep, \n",
    "                                  ngram_range=(1,1), \n",
    "                                  sublinear_tf = True,\n",
    "                                  max_features = 4000,\n",
    "                                  dtype = np.float32)"
   ]
  },
  {
   "cell_type": "code",
   "execution_count": 10,
   "id": "73d128a1",
   "metadata": {},
   "outputs": [],
   "source": [
    "topic_tfidf = tfidf_vectorize.fit(all_topic)\n",
    "train_topic = tfidf_vectorize.transform(df_train['topic'].values.astype('U').tolist())\n",
    "test_topic = tfidf_vectorize.transform(df_test['topic'].values.astype('U').tolist())"
   ]
  },
  {
   "cell_type": "code",
   "execution_count": 11,
   "id": "34215025",
   "metadata": {
    "scrolled": true
   },
   "outputs": [
    {
     "name": "stdout",
     "output_type": "stream",
     "text": [
      "(27643, 4000)\n",
      "(11847, 4000)\n"
     ]
    }
   ],
   "source": [
    "print(train_topic.shape)\n",
    "print(test_topic.shape)"
   ]
  },
  {
   "cell_type": "code",
   "execution_count": 12,
   "id": "dcd27dca",
   "metadata": {},
   "outputs": [
    {
     "name": "stdout",
     "output_type": "stream",
     "text": [
      "(27643, 4000)\n",
      "(11847, 4000)\n"
     ]
    }
   ],
   "source": [
    "title_tfidf = tfidf_vectorize.fit(all_titles)\n",
    "train_title = tfidf_vectorize.transform(df_train['title'].values.astype('U').tolist())\n",
    "test_title = tfidf_vectorize.transform(df_test['title'].values.astype('U').tolist())\n",
    "\n",
    "print(train_title.shape)\n",
    "print(test_title.shape)"
   ]
  },
  {
   "cell_type": "code",
   "execution_count": 13,
   "id": "e90f3dcf",
   "metadata": {},
   "outputs": [],
   "source": [
    "channle_tfidf = tfidf_vectorize.fit(all_channel)\n",
    "train_channel = tfidf_vectorize.transform(df_train['channel'].values.astype('U').tolist())\n",
    "test_channel = tfidf_vectorize.transform(df_test['channel'].values.astype('U').tolist())"
   ]
  },
  {
   "cell_type": "code",
   "execution_count": 14,
   "id": "6803e960",
   "metadata": {},
   "outputs": [
    {
     "name": "stdout",
     "output_type": "stream",
     "text": [
      "(27643, 33)\n",
      "(11847, 33)\n"
     ]
    }
   ],
   "source": [
    "print(train_channel.shape)\n",
    "print(test_channel.shape)"
   ]
  },
  {
   "cell_type": "code",
   "execution_count": 15,
   "id": "93edc0d0",
   "metadata": {},
   "outputs": [],
   "source": [
    "from sklearn.preprocessing import LabelEncoder, OneHotEncoder, StandardScaler"
   ]
  },
  {
   "cell_type": "code",
   "execution_count": 16,
   "id": "f740898c",
   "metadata": {},
   "outputs": [
    {
     "name": "stdout",
     "output_type": "stream",
     "text": [
      "(27643, 33)\n",
      "(11847, 33)\n"
     ]
    }
   ],
   "source": [
    "# ohe channel\n",
    "OHE = OneHotEncoder(handle_unknown='ignore')\n",
    "train_ohe_channel = OHE.fit_transform(df_train['channel'].values.reshape(-1,1)).toarray()\n",
    "\n",
    "# OHE = OneHotEncoder(handle_unknown='ignore')\n",
    "test_ohe_channel = OHE.transform(df_test['channel'].values.reshape(-1,1)).toarray()\n",
    "print(train_ohe_channel.shape)\n",
    "print(test_ohe_channel.shape)"
   ]
  },
  {
   "cell_type": "code",
   "execution_count": 17,
   "id": "93a465c1",
   "metadata": {},
   "outputs": [
    {
     "name": "stdout",
     "output_type": "stream",
     "text": [
      "(27643, 7)\n",
      "(11847, 7)\n"
     ]
    }
   ],
   "source": [
    "# ohe weekday\n",
    "OHE = OneHotEncoder(handle_unknown='ignore')\n",
    "train_ohe_weekday = OHE.fit_transform(df_train['weekday'].values.reshape(-1,1)).toarray()\n",
    "test_ohe_weekday = OHE.transform(df_test['weekday'].values.reshape(-1,1)).toarray()\n",
    "print(train_ohe_weekday.shape)\n",
    "print(test_ohe_weekday.shape)"
   ]
  },
  {
   "cell_type": "code",
   "execution_count": 18,
   "id": "055376c4",
   "metadata": {},
   "outputs": [
    {
     "name": "stdout",
     "output_type": "stream",
     "text": [
      "(27643, 428)\n",
      "(11847, 428)\n"
     ]
    }
   ],
   "source": [
    "# ohe author\n",
    "OHE = OneHotEncoder(handle_unknown='ignore')\n",
    "train_ohe_author = OHE.fit_transform(df_train['author'].values.reshape(-1,1)).toarray()\n",
    "test_ohe_author = OHE.transform(df_test['author'].values.reshape(-1,1)).toarray()\n",
    "\n",
    "print(train_ohe_author.shape)\n",
    "print(test_ohe_author.shape)"
   ]
  },
  {
   "cell_type": "code",
   "execution_count": 19,
   "id": "5e715cb4",
   "metadata": {},
   "outputs": [
    {
     "data": {
      "text/plain": [
       "(27643, 33)"
      ]
     },
     "execution_count": 19,
     "metadata": {},
     "output_type": "execute_result"
    }
   ],
   "source": [
    "train_topic.toarray().shape\n",
    "train_title.toarray().shape\n",
    "train_channel.toarray().shape\n",
    "# train_ohe_weekday.shape\n",
    "# train_ohe_author.shape\n",
    "# .shape"
   ]
  },
  {
   "cell_type": "code",
   "execution_count": 20,
   "id": "91e22ddb",
   "metadata": {},
   "outputs": [
    {
     "data": {
      "text/plain": [
       "Index(['Id', 'Popularity', 'topic', 'channel', 'weekday', 'author',\n",
       "       'img count', 'title', 'content', 'media count', 'n_tokens_title',\n",
       "       'n_tokens_content', 'n_unique_tokens', 'n_non_stop_words',\n",
       "       'n_non_stop_unique_tokens'],\n",
       "      dtype='object')"
      ]
     },
     "execution_count": 20,
     "metadata": {},
     "output_type": "execute_result"
    }
   ],
   "source": [
    "df_train.columns"
   ]
  },
  {
   "cell_type": "code",
   "execution_count": 49,
   "id": "96c45436",
   "metadata": {},
   "outputs": [
    {
     "name": "stdout",
     "output_type": "stream",
     "text": [
      "(27643, 474) (27643,)\n",
      "(11847, 474)\n"
     ]
    }
   ],
   "source": [
    "x_train = np.concatenate([\n",
    "#                           train_title.toarray(), \n",
    "#                           train_topic.toarray(), \n",
    "#                           train_channel.toarray(), \n",
    "                          train_ohe_channel,\n",
    "                          train_ohe_weekday,\n",
    "                          train_ohe_author, \n",
    "                          np.expand_dims(df_train['img count'].values, axis=-1),\n",
    "                          np.expand_dims(df_train['media count'].values, axis=-1),\n",
    "                            np.expand_dims(df_train['n_tokens_title'].values, axis=-1),\n",
    "                            np.expand_dims(df_train['n_tokens_content'].values, axis=-1),\n",
    "                            np.expand_dims(df_train['n_unique_tokens'].values, axis=-1),\n",
    "                            np.expand_dims(df_train['n_non_stop_words'].values, axis=-1),\n",
    "#                             np.expand_dims(df_train['n_non_stop_unique_tokens'].values, axis=-1),\n",
    "                            ], axis=1)\n",
    "\n",
    "x_test = np.concatenate([\n",
    "#                           test_title.toarray(), \n",
    "#                           test_topic.toarray(), \n",
    "#                           test_channel.toarray(), \n",
    "                          test_ohe_channel,\n",
    "                          test_ohe_weekday,\n",
    "                          test_ohe_author, \n",
    "                          np.expand_dims(df_test['img count'].values, axis=-1),\n",
    "                          np.expand_dims(df_test['media count'].values, axis=-1),\n",
    "                            np.expand_dims(df_test['n_tokens_title'].values, axis=-1),\n",
    "                            np.expand_dims(df_test['n_tokens_content'].values, axis=-1),\n",
    "                            np.expand_dims(df_test['n_unique_tokens'].values, axis=-1),\n",
    "                            np.expand_dims(df_test['n_non_stop_words'].values, axis=-1),\n",
    "#                             np.expand_dims(df_test['n_non_stop_unique_tokens'].values, axis=-1)\n",
    "                            ], axis=1)\n",
    "\n",
    "y_train = df_train['Popularity'].to_numpy()\n",
    "y_train[y_train==-1] = 0\n",
    "\n",
    "print(x_train.shape, y_train.shape)\n",
    "print(x_test.shape)"
   ]
  },
  {
   "cell_type": "code",
   "execution_count": 50,
   "id": "81d24483",
   "metadata": {},
   "outputs": [],
   "source": [
    "x_train, x_val, y_train, y_val = train_test_split(x_train, y_train, test_size=0.2)"
   ]
  },
  {
   "cell_type": "code",
   "execution_count": 51,
   "id": "3b55ce78",
   "metadata": {},
   "outputs": [],
   "source": [
    "import xgboost as xgb\n",
    "from xgboost import XGBClassifier"
   ]
  },
  {
   "cell_type": "code",
   "execution_count": 52,
   "id": "dc0f3bbf",
   "metadata": {},
   "outputs": [],
   "source": [
    "d_train = xgb.DMatrix(x_train, y_train)\n",
    "d_valid = xgb.DMatrix(x_val, y_val)\n",
    "d_test = xgb.DMatrix(x_test)"
   ]
  },
  {
   "cell_type": "code",
   "execution_count": 55,
   "id": "c09b4f53",
   "metadata": {},
   "outputs": [],
   "source": [
    "xgb_params = {'eta': 0.02, \n",
    "              'max_depth': 6, \n",
    "              'subsample': 1, \n",
    "              'colsample_bytree': 1,\n",
    "              'min_child_weight' : 1.5,\n",
    "              'objective': 'binary:logistic', \n",
    "              'eval_metric': 'auc', \n",
    "#               'lambda': 1.5,\n",
    "#               'alpha': 0.6,\n",
    "              'n_estimators': 600,\n",
    "             }"
   ]
  },
  {
   "cell_type": "code",
   "execution_count": 56,
   "id": "73caaa85",
   "metadata": {},
   "outputs": [],
   "source": [
    "fit_params = {\n",
    "    'eval_metric': \"auc\",\n",
    "    'early_stopping_rounds': 30,\n",
    "    'verbose' :  True,\n",
    "    'objective' :'binary:logistic'\n",
    "}\n",
    "xgb_model = xgb.XGBClassifier(**fit_params)"
   ]
  },
  {
   "cell_type": "code",
   "execution_count": 57,
   "id": "b255b769",
   "metadata": {},
   "outputs": [
    {
     "name": "stdout",
     "output_type": "stream",
     "text": [
      "[09:37:33] WARNING: ../src/learner.cc:576: \n",
      "Parameters: { \"n_estimators\" } might not be used.\n",
      "\n",
      "  This could be a false alarm, with some parameters getting used by language bindings but\n",
      "  then being mistakenly passed down to XGBoost core, or some parameter actually being used\n",
      "  but getting flagged wrongly here. Please open an issue if you find any such cases.\n",
      "\n",
      "\n",
      "[0]\ttrain-auc:0.57047\tvalid-auc:0.54499\n",
      "[10]\ttrain-auc:0.57703\tvalid-auc:0.54822\n",
      "[20]\ttrain-auc:0.58448\tvalid-auc:0.55032\n",
      "[30]\ttrain-auc:0.58815\tvalid-auc:0.55262\n",
      "[40]\ttrain-auc:0.59153\tvalid-auc:0.55323\n",
      "[50]\ttrain-auc:0.59944\tvalid-auc:0.55611\n",
      "[60]\ttrain-auc:0.60472\tvalid-auc:0.55803\n",
      "[70]\ttrain-auc:0.60998\tvalid-auc:0.55907\n",
      "[80]\ttrain-auc:0.61633\tvalid-auc:0.56142\n",
      "[90]\ttrain-auc:0.62205\tvalid-auc:0.56323\n",
      "[100]\ttrain-auc:0.62707\tvalid-auc:0.56470\n",
      "[110]\ttrain-auc:0.63049\tvalid-auc:0.56512\n",
      "[120]\ttrain-auc:0.63511\tvalid-auc:0.56529\n",
      "[130]\ttrain-auc:0.63671\tvalid-auc:0.56543\n",
      "[140]\ttrain-auc:0.63870\tvalid-auc:0.56513\n",
      "[150]\ttrain-auc:0.64093\tvalid-auc:0.56522\n",
      "[160]\ttrain-auc:0.64216\tvalid-auc:0.56458\n",
      "[167]\ttrain-auc:0.64333\tvalid-auc:0.56459\n"
     ]
    }
   ],
   "source": [
    "watchlist = [(d_train, 'train'), (d_valid, 'valid')]\n",
    "model = xgb.train(xgb_params, d_train, 2000, watchlist, verbose_eval=10, early_stopping_rounds=50)"
   ]
  },
  {
   "cell_type": "code",
   "execution_count": 58,
   "id": "4a9ae78b",
   "metadata": {},
   "outputs": [],
   "source": [
    "file_name = './outputs/xgb.csv'\n",
    "y_pred = model.predict(d_test)\n",
    "df_submission = pd.read_csv('./sample_submission.csv')\n",
    "df_submission['Popularity'] = y_pred\n",
    "df_submission.to_csv(file_name, index=False)"
   ]
  },
  {
   "cell_type": "code",
   "execution_count": 35,
   "id": "31dbab91",
   "metadata": {},
   "outputs": [
    {
     "name": "stdout",
     "output_type": "stream",
     "text": [
      "Fitting 3 folds for each of 1 candidates, totalling 3 fits\n",
      "0.541255122112588\n"
     ]
    }
   ],
   "source": []
  },
  {
   "cell_type": "code",
   "execution_count": 37,
   "id": "88820dda",
   "metadata": {},
   "outputs": [
    {
     "data": {
      "text/plain": [
       "RandomForestClassifier(criterion='entropy', n_estimators=200, n_jobs=2,\n",
       "                       random_state=1)"
      ]
     },
     "execution_count": 37,
     "metadata": {},
     "output_type": "execute_result"
    }
   ],
   "source": [
    "forest = RandomForestClassifier(criterion='entropy',\n",
    "                                n_estimators=200, \n",
    "                                random_state=1,\n",
    "                                n_jobs=2)\n",
    "forest.fit(x_train, y_train)"
   ]
  },
  {
   "cell_type": "code",
   "execution_count": 43,
   "id": "e17a74c8",
   "metadata": {},
   "outputs": [
    {
     "name": "stdout",
     "output_type": "stream",
     "text": [
      " 1) [473]                          0.120693\n",
      " 2) [474]                          0.119217\n",
      " 3) [472]                          0.118320\n",
      " 4) [471]                          0.117598\n",
      " 5) [470]                          0.071868\n",
      " 6) [468]                          0.066164\n",
      " 7) [469]                          0.038207\n",
      " 8) [28]                           0.008662\n",
      " 9) [7]                            0.008631\n",
      "10) [467]                          0.008506\n",
      "11) [3]                            0.007470\n",
      "12) [32]                           0.007268\n",
      "13) [34]                           0.007250\n",
      "14) [37]                           0.006995\n",
      "15) [31]                           0.006981\n",
      "16) [38]                           0.006574\n",
      "17) [39]                           0.006337\n",
      "18) [35]                           0.005262\n",
      "19) [33]                           0.005132\n",
      "20) [347]                          0.005094\n",
      "21) [24]                           0.004705\n",
      "22) [392]                          0.004650\n",
      "23) [416]                          0.004545\n",
      "24) [21]                           0.004305\n",
      "25) [440]                          0.004290\n",
      "26) [389]                          0.004275\n",
      "27) [36]                           0.004089\n",
      "28) [405]                          0.004077\n",
      "29) [291]                          0.003910\n",
      "30) [20]                           0.003907\n",
      "31) [108]                          0.003602\n",
      "32) [281]                          0.003550\n",
      "33) [15]                           0.003384\n",
      "34) [140]                          0.003348\n",
      "35) [0]                            0.003330\n",
      "36) [279]                          0.003237\n",
      "37) [73]                           0.003236\n",
      "38) [221]                          0.003191\n",
      "39) [8]                            0.003189\n",
      "40) [432]                          0.003174\n",
      "41) [29]                           0.003171\n",
      "42) [10]                           0.003165\n",
      "43) [134]                          0.003157\n",
      "44) [128]                          0.003145\n",
      "45) [112]                          0.003115\n",
      "46) [363]                          0.003027\n",
      "47) [136]                          0.003013\n",
      "48) [17]                           0.002936\n",
      "49) [9]                            0.002899\n",
      "50) [48]                           0.002889\n",
      "51) [277]                          0.002879\n",
      "52) [27]                           0.002818\n",
      "53) [16]                           0.002696\n",
      "54) [261]                          0.002669\n",
      "55) [322]                          0.002639\n",
      "56) [83]                           0.002552\n",
      "57) [78]                           0.002543\n",
      "58) [174]                          0.002525\n",
      "59) [1]                            0.002505\n",
      "60) [137]                          0.002494\n",
      "61) [187]                          0.002443\n",
      "62) [177]                          0.002393\n",
      "63) [114]                          0.002374\n",
      "64) [253]                          0.002365\n",
      "65) [237]                          0.002305\n",
      "66) [56]                           0.002291\n",
      "67) [284]                          0.002267\n",
      "68) [227]                          0.002255\n",
      "69) [396]                          0.002161\n",
      "70) [316]                          0.002140\n",
      "71) [66]                           0.002111\n",
      "72) [466]                          0.002026\n",
      "73) [455]                          0.002019\n",
      "74) [75]                           0.001854\n",
      "75) [337]                          0.001840\n",
      "76) [59]                           0.001689\n",
      "77) [461]                          0.001662\n",
      "78) [156]                          0.001615\n",
      "79) [235]                          0.001583\n",
      "80) [404]                          0.001516\n",
      "81) [6]                            0.001507\n",
      "82) [376]                          0.001505\n",
      "83) [141]                          0.001446\n",
      "84) [330]                          0.001428\n",
      "85) [23]                           0.001422\n",
      "86) [260]                          0.001325\n",
      "87) [265]                          0.001300\n",
      "88) [121]                          0.001258\n",
      "89) [40]                           0.001243\n",
      "90) [326]                          0.001221\n",
      "91) [165]                          0.001219\n",
      "92) [430]                          0.001169\n",
      "93) [323]                          0.001161\n",
      "94) [125]                          0.001116\n",
      "95) [98]                           0.001108\n",
      "96) [266]                          0.001092\n",
      "97) [47]                           0.001071\n",
      "98) [358]                          0.001061\n",
      "99) [149]                          0.001053\n",
      "100) [437]                          0.001047\n",
      "101) [138]                          0.001017\n",
      "102) [157]                          0.001013\n",
      "103) [372]                          0.000983\n",
      "104) [384]                          0.000972\n",
      "105) [22]                           0.000963\n",
      "106) [294]                          0.000950\n",
      "107) [82]                           0.000944\n",
      "108) [398]                          0.000930\n",
      "109) [282]                          0.000928\n",
      "110) [97]                           0.000927\n",
      "111) [143]                          0.000910\n",
      "112) [278]                          0.000850\n",
      "113) [12]                           0.000836\n",
      "114) [79]                           0.000822\n",
      "115) [427]                          0.000787\n",
      "116) [447]                          0.000748\n",
      "117) [324]                          0.000748\n",
      "118) [397]                          0.000748\n",
      "119) [355]                          0.000745\n",
      "120) [118]                          0.000727\n",
      "121) [85]                           0.000724\n",
      "122) [89]                           0.000722\n",
      "123) [199]                          0.000719\n",
      "124) [418]                          0.000717\n",
      "125) [190]                          0.000702\n",
      "126) [163]                          0.000697\n",
      "127) [319]                          0.000680\n",
      "128) [233]                          0.000670\n",
      "129) [399]                          0.000664\n",
      "130) [183]                          0.000652\n",
      "131) [116]                          0.000652\n",
      "132) [368]                          0.000631\n",
      "133) [401]                          0.000624\n",
      "134) [64]                           0.000617\n",
      "135) [419]                          0.000613\n",
      "136) [74]                           0.000603\n",
      "137) [124]                          0.000599\n",
      "138) [263]                          0.000587\n",
      "139) [314]                          0.000560\n",
      "140) [426]                          0.000554\n",
      "141) [299]                          0.000554\n",
      "142) [77]                           0.000548\n",
      "143) [301]                          0.000541\n",
      "144) [164]                          0.000507\n",
      "145) [155]                          0.000498\n",
      "146) [81]                           0.000495\n",
      "147) [287]                          0.000468\n",
      "148) [439]                          0.000461\n",
      "149) [218]                          0.000442\n",
      "150) [360]                          0.000437\n",
      "151) [283]                          0.000410\n",
      "152) [240]                          0.000400\n",
      "153) [410]                          0.000381\n",
      "154) [232]                          0.000367\n",
      "155) [325]                          0.000364\n",
      "156) [293]                          0.000361\n",
      "157) [5]                            0.000359\n",
      "158) [196]                          0.000357\n",
      "159) [391]                          0.000354\n",
      "160) [340]                          0.000352\n",
      "161) [101]                          0.000349\n",
      "162) [357]                          0.000347\n",
      "163) [304]                          0.000341\n",
      "164) [152]                          0.000332\n",
      "165) [86]                           0.000315\n",
      "166) [348]                          0.000310\n",
      "167) [276]                          0.000304\n",
      "168) [230]                          0.000303\n",
      "169) [146]                          0.000300\n",
      "170) [262]                          0.000294\n",
      "171) [180]                          0.000282\n",
      "172) [354]                          0.000276\n",
      "173) [421]                          0.000274\n",
      "174) [171]                          0.000263\n",
      "175) [369]                          0.000257\n",
      "176) [170]                          0.000250\n",
      "177) [57]                           0.000246\n",
      "178) [88]                           0.000245\n",
      "179) [225]                          0.000235\n",
      "180) [444]                          0.000231\n",
      "181) [374]                          0.000215\n",
      "182) [213]                          0.000213\n",
      "183) [93]                           0.000211\n",
      "184) [350]                          0.000210\n",
      "185) [409]                          0.000198\n",
      "186) [453]                          0.000186\n",
      "187) [135]                          0.000183\n",
      "188) [352]                          0.000182\n",
      "189) [241]                          0.000176\n",
      "190) [393]                          0.000175\n",
      "191) [172]                          0.000172\n",
      "192) [313]                          0.000166\n",
      "193) [395]                          0.000162\n",
      "194) [160]                          0.000161\n",
      "195) [42]                           0.000160\n",
      "196) [26]                           0.000158\n",
      "197) [166]                          0.000154\n",
      "198) [343]                          0.000150\n",
      "199) [234]                          0.000148\n",
      "200) [457]                          0.000147\n",
      "201) [270]                          0.000145\n",
      "202) [415]                          0.000142\n",
      "203) [224]                          0.000138\n",
      "204) [318]                          0.000136\n",
      "205) [251]                          0.000135\n",
      "206) [303]                          0.000134\n",
      "207) [275]                          0.000126\n",
      "208) [173]                          0.000126\n",
      "209) [111]                          0.000126\n",
      "210) [228]                          0.000125\n",
      "211) [209]                          0.000123\n",
      "212) [99]                           0.000123\n",
      "213) [91]                           0.000114\n",
      "214) [371]                          0.000110\n",
      "215) [200]                          0.000110\n",
      "216) [151]                          0.000109\n",
      "217) [219]                          0.000107\n",
      "218) [192]                          0.000106\n",
      "219) [71]                           0.000103\n",
      "220) [201]                          0.000103\n",
      "221) [317]                          0.000102\n",
      "222) [175]                          0.000102\n",
      "223) [184]                          0.000100\n",
      "224) [95]                           0.000098\n",
      "225) [131]                          0.000097\n",
      "226) [194]                          0.000096\n",
      "227) [107]                          0.000096\n",
      "228) [420]                          0.000095\n",
      "229) [452]                          0.000090\n",
      "230) [446]                          0.000089\n",
      "231) [154]                          0.000088\n",
      "232) [123]                          0.000087\n",
      "233) [365]                          0.000086\n",
      "234) [168]                          0.000085\n",
      "235) [254]                          0.000083\n",
      "236) [252]                          0.000082\n",
      "237) [336]                          0.000082\n",
      "238) [169]                          0.000077\n",
      "239) [264]                          0.000075\n",
      "240) [443]                          0.000075\n",
      "241) [62]                           0.000074\n",
      "242) [212]                          0.000074\n",
      "243) [339]                          0.000074\n",
      "244) [145]                          0.000072\n",
      "245) [378]                          0.000072\n",
      "246) [394]                          0.000071\n",
      "247) [400]                          0.000071\n",
      "248) [375]                          0.000070\n",
      "249) [259]                          0.000070\n",
      "250) [345]                          0.000068\n",
      "251) [109]                          0.000068\n",
      "252) [315]                          0.000067\n",
      "253) [162]                          0.000067\n",
      "254) [445]                          0.000067\n",
      "255) [46]                           0.000066\n",
      "256) [239]                          0.000065\n",
      "257) [223]                          0.000061\n",
      "258) [370]                          0.000060\n",
      "259) [436]                          0.000058\n",
      "260) [403]                          0.000056\n",
      "261) [423]                          0.000056\n",
      "262) [435]                          0.000055\n",
      "263) [176]                          0.000055\n",
      "264) [51]                           0.000053\n",
      "265) [94]                           0.000052\n",
      "266) [120]                          0.000052\n",
      "267) [185]                          0.000051\n",
      "268) [442]                          0.000051\n",
      "269) [45]                           0.000050\n",
      "270) [353]                          0.000049\n",
      "271) [179]                          0.000049\n",
      "272) [407]                          0.000049\n",
      "273) [382]                          0.000049\n",
      "274) [356]                          0.000048\n",
      "275) [69]                           0.000046\n",
      "276) [182]                          0.000045\n",
      "277) [438]                          0.000045\n",
      "278) [296]                          0.000045\n",
      "279) [307]                          0.000043\n",
      "280) [456]                          0.000043\n",
      "281) [54]                           0.000043\n",
      "282) [178]                          0.000043\n",
      "283) [206]                          0.000042\n",
      "284) [65]                           0.000042\n",
      "285) [211]                          0.000041\n",
      "286) [133]                          0.000041\n",
      "287) [286]                          0.000041\n",
      "288) [242]                          0.000041\n",
      "289) [18]                           0.000040\n",
      "290) [53]                           0.000039\n",
      "291) [383]                          0.000039\n",
      "292) [328]                          0.000038\n",
      "293) [202]                          0.000038\n",
      "294) [417]                          0.000038\n",
      "295) [255]                          0.000038\n",
      "296) [308]                          0.000037\n",
      "297) [327]                          0.000037\n",
      "298) [244]                          0.000037\n",
      "299) [50]                           0.000037\n",
      "300) [387]                          0.000036\n",
      "301) [450]                          0.000036\n",
      "302) [52]                           0.000036\n",
      "303) [271]                          0.000036\n",
      "304) [331]                          0.000035\n",
      "305) [188]                          0.000035\n",
      "306) [274]                          0.000035\n",
      "307) [402]                          0.000035\n",
      "308) [297]                          0.000034\n",
      "309) [250]                          0.000034\n",
      "310) [290]                          0.000034\n",
      "311) [268]                          0.000034\n",
      "312) [422]                          0.000034\n",
      "313) [203]                          0.000034\n",
      "314) [11]                           0.000033\n",
      "315) [2]                            0.000033\n",
      "316) [210]                          0.000032\n",
      "317) [129]                          0.000032\n",
      "318) [4]                            0.000032\n",
      "319) [217]                          0.000032\n",
      "320) [248]                          0.000031\n",
      "321) [300]                          0.000031\n",
      "322) [119]                          0.000031\n",
      "323) [380]                          0.000031\n",
      "324) [236]                          0.000031\n",
      "325) [342]                          0.000031\n",
      "326) [161]                          0.000031\n",
      "327) [132]                          0.000030\n",
      "328) [364]                          0.000030\n",
      "329) [229]                          0.000030\n",
      "330) [197]                          0.000029\n",
      "331) [245]                          0.000029\n",
      "332) [412]                          0.000029\n",
      "333) [159]                          0.000029\n",
      "334) [351]                          0.000029\n",
      "335) [14]                           0.000029\n",
      "336) [465]                          0.000029\n",
      "337) [288]                          0.000028\n",
      "338) [258]                          0.000028\n",
      "339) [305]                          0.000028\n",
      "340) [362]                          0.000028\n",
      "341) [214]                          0.000028\n",
      "342) [231]                          0.000027\n",
      "343) [269]                          0.000027\n",
      "344) [44]                           0.000027\n",
      "345) [280]                          0.000027\n",
      "346) [390]                          0.000027\n",
      "347) [458]                          0.000027\n",
      "348) [310]                          0.000027\n",
      "349) [58]                           0.000027\n",
      "350) [198]                          0.000026\n",
      "351) [19]                           0.000026\n",
      "352) [462]                          0.000026\n",
      "353) [100]                          0.000026\n",
      "354) [377]                          0.000026\n",
      "355) [103]                          0.000026\n",
      "356) [150]                          0.000025\n",
      "357) [289]                          0.000025\n",
      "358) [25]                           0.000025\n",
      "359) [127]                          0.000025\n",
      "360) [449]                          0.000025\n",
      "361) [189]                          0.000025\n",
      "362) [139]                          0.000025\n",
      "363) [222]                          0.000024\n",
      "364) [238]                          0.000024\n",
      "365) [349]                          0.000024\n",
      "366) [113]                          0.000024\n",
      "367) [41]                           0.000024\n",
      "368) [428]                          0.000024\n",
      "369) [204]                          0.000024\n",
      "370) [381]                          0.000023\n",
      "371) [451]                          0.000023\n",
      "372) [321]                          0.000023\n",
      "373) [385]                          0.000023\n",
      "374) [309]                          0.000023\n",
      "375) [110]                          0.000023\n",
      "376) [191]                          0.000023\n",
      "377) [373]                          0.000023\n",
      "378) [92]                           0.000023\n",
      "379) [195]                          0.000023\n",
      "380) [379]                          0.000023\n",
      "381) [366]                          0.000022\n",
      "382) [361]                          0.000022\n",
      "383) [96]                           0.000022\n",
      "384) [257]                          0.000022\n",
      "385) [148]                          0.000022\n",
      "386) [60]                           0.000022\n",
      "387) [388]                          0.000022\n",
      "388) [215]                          0.000021\n",
      "389) [341]                          0.000021\n",
      "390) [122]                          0.000021\n",
      "391) [102]                          0.000021\n",
      "392) [386]                          0.000021\n",
      "393) [130]                          0.000021\n",
      "394) [147]                          0.000020\n",
      "395) [333]                          0.000020\n",
      "396) [460]                          0.000020\n",
      "397) [302]                          0.000020\n",
      "398) [43]                           0.000020\n",
      "399) [346]                          0.000020\n",
      "400) [295]                          0.000020\n",
      "401) [76]                           0.000020\n",
      "402) [90]                           0.000020\n",
      "403) [207]                          0.000020\n",
      "404) [424]                          0.000020\n",
      "405) [226]                          0.000019\n",
      "406) [334]                          0.000019\n",
      "407) [193]                          0.000019\n",
      "408) [30]                           0.000019\n",
      "409) [338]                          0.000019\n",
      "410) [406]                          0.000018\n",
      "411) [105]                          0.000018\n",
      "412) [67]                           0.000018\n",
      "413) [256]                          0.000017\n",
      "414) [359]                          0.000017\n",
      "415) [49]                           0.000017\n",
      "416) [434]                          0.000017\n",
      "417) [61]                           0.000017\n",
      "418) [87]                           0.000017\n",
      "419) [431]                          0.000017\n",
      "420) [144]                          0.000017\n",
      "421) [205]                          0.000016\n",
      "422) [448]                          0.000016\n",
      "423) [126]                          0.000016\n",
      "424) [104]                          0.000016\n",
      "425) [106]                          0.000016\n",
      "426) [13]                           0.000016\n",
      "427) [267]                          0.000016\n",
      "428) [335]                          0.000015\n",
      "429) [292]                          0.000015\n",
      "430) [312]                          0.000014\n",
      "431) [117]                          0.000014\n",
      "432) [459]                          0.000014\n",
      "433) [306]                          0.000013\n",
      "434) [329]                          0.000013\n",
      "435) [272]                          0.000013\n",
      "436) [411]                          0.000013\n",
      "437) [208]                          0.000013\n",
      "438) [70]                           0.000013\n",
      "439) [298]                          0.000012\n",
      "440) [414]                          0.000012\n",
      "441) [186]                          0.000012\n",
      "442) [285]                          0.000012\n",
      "443) [464]                          0.000012\n",
      "444) [167]                          0.000011\n",
      "445) [220]                          0.000011\n",
      "446) [216]                          0.000011\n",
      "447) [181]                          0.000011\n",
      "448) [344]                          0.000010\n",
      "449) [72]                           0.000009\n",
      "450) [441]                          0.000009\n",
      "451) [273]                          0.000008\n",
      "452) [243]                          0.000000\n",
      "453) [413]                          0.000000\n",
      "454) [55]                           0.000000\n",
      "455) [63]                           0.000000\n",
      "456) [158]                          0.000000\n",
      "457) [68]                           0.000000\n",
      "458) [153]                          0.000000\n",
      "459) [454]                          0.000000\n",
      "460) [433]                          0.000000\n",
      "461) [429]                          0.000000\n",
      "462) [142]                          0.000000\n",
      "463) [80]                           0.000000\n",
      "464) [115]                          0.000000\n",
      "465) [408]                          0.000000\n",
      "466) [425]                          0.000000\n",
      "467) [246]                          0.000000\n",
      "468) [320]                          0.000000\n",
      "469) [247]                          0.000000\n",
      "470) [463]                          0.000000\n",
      "471) [249]                          0.000000\n",
      "472) [332]                          0.000000\n",
      "473) [84]                           0.000000\n",
      "474) [311]                          0.000000\n",
      "475) [367]                          0.000000\n"
     ]
    }
   ],
   "source": [
    "from sklearn.feature_selection import SelectFromModel\n",
    "\n",
    "importances = forest.feature_importances_\n",
    "# get sort indices in descending order\n",
    "indices = np.argsort(importances)[::-1]\n",
    "\n",
    "for f in range(x_train.shape[1]):\n",
    "    print(\"%2d) %-*s %f\" % (f + 1, 30, \n",
    "                            [indices[f]], \n",
    "                            importances[indices[f]]))"
   ]
  },
  {
   "cell_type": "code",
   "execution_count": null,
   "id": "aa568c50",
   "metadata": {},
   "outputs": [],
   "source": []
  },
  {
   "cell_type": "code",
   "execution_count": null,
   "id": "1f94173b",
   "metadata": {},
   "outputs": [],
   "source": []
  },
  {
   "cell_type": "code",
   "execution_count": null,
   "id": "ab070daf",
   "metadata": {},
   "outputs": [],
   "source": []
  },
  {
   "cell_type": "code",
   "execution_count": null,
   "id": "5a706ea3",
   "metadata": {},
   "outputs": [],
   "source": []
  },
  {
   "cell_type": "code",
   "execution_count": null,
   "id": "6cc3c5a7",
   "metadata": {},
   "outputs": [],
   "source": []
  }
 ],
 "metadata": {
  "kernelspec": {
   "display_name": "Python 3",
   "language": "python",
   "name": "python3"
  },
  "language_info": {
   "codemirror_mode": {
    "name": "ipython",
    "version": 3
   },
   "file_extension": ".py",
   "mimetype": "text/x-python",
   "name": "python",
   "nbconvert_exporter": "python",
   "pygments_lexer": "ipython3",
   "version": "3.8.8"
  }
 },
 "nbformat": 4,
 "nbformat_minor": 5
}
